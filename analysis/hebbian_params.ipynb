{
 "cells": [
  {
   "cell_type": "code",
   "execution_count": 5,
   "metadata": {},
   "outputs": [],
   "source": [
    "import glob\n",
    "\n",
    "results_dir = './../results/dynamic_eligibility_trace'\n",
    "config_files = glob.glob(results_dir + \"/\" + \"config*\")\n",
    "log_files = glob.glob(results_dir + \"/\" + \"log*\")\n",
    "\n",
    "execution_suffixes = []\n",
    "for config_file in config_files:\n",
    "    execution_suffix = config_file.split('/')[-1].replace(\"config\", \"\")\n",
    "    execution_suffixes.append(execution_suffix)"
   ]
  },
  {
   "cell_type": "code",
   "execution_count": 8,
   "metadata": {},
   "outputs": [
    {
     "name": "stdout",
     "output_type": "stream",
     "text": [
      "no o fexperiments to run:  400\n"
     ]
    }
   ],
   "source": [
    "import itertools\n",
    "seeds = list(range(10))\n",
    "var1s   = [100, 500, 1000, 1500, 2000, 2500, 3000, 3500, 4000]\n",
    "var1s   = [1, 5, 10, 50, 100, 200, 300,  400, 500, 600]\n",
    "var2s   = [0.08, .10, .12, .14,]\n",
    "task_vars = list(itertools.product(seeds, var1s, var2s)) #810 length\n",
    "print('no o fexperiments to run: ', len(task_vars))\n"
   ]
  },
  {
   "cell_type": "code",
   "execution_count": 34,
   "metadata": {},
   "outputs": [
    {
     "name": "stdout",
     "output_type": "stream",
     "text": [
      "<config.HebbianLearning_config object at 0x2b5d02d6c730>\n",
      "0.005 0.04\n"
     ]
    }
   ],
   "source": [
    "import numpy as np\n",
    "import sys\n",
    "sys.path.append('./../')\n",
    "\n",
    "for execution_suffix in execution_suffixes:\n",
    "    config_filename = \"config\" + execution_suffix\n",
    "    output_filename = \"saved_Corrects\" + execution_suffix\n",
    "    config = np.load(results_dir + \"/\" + config_filename,allow_pickle=True).item()\n",
    "    print(config.MDlearningrate, config.MDrange)\n",
    "    #     data   = np.load(results_dir + \"/\" + output_filename)\n",
    "    \n",
    "    break"
   ]
  },
  {
   "cell_type": "code",
   "execution_count": 6,
   "metadata": {},
   "outputs": [
    {
     "data": {
      "text/plain": [
       "[]"
      ]
     },
     "execution_count": 6,
     "metadata": {},
     "output_type": "execute_result"
    }
   ],
   "source": [
    "execution_suffixes"
   ]
  },
  {
   "cell_type": "code",
   "execution_count": null,
   "metadata": {},
   "outputs": [],
   "source": []
  }
 ],
 "metadata": {
  "kernelspec": {
   "display_name": "Python 3",
   "language": "python",
   "name": "python3"
  },
  "language_info": {
   "codemirror_mode": {
    "name": "ipython",
    "version": 3
   },
   "file_extension": ".py",
   "mimetype": "text/x-python",
   "name": "python",
   "nbconvert_exporter": "python",
   "pygments_lexer": "ipython3",
   "version": "3.8.11"
  }
 },
 "nbformat": 4,
 "nbformat_minor": 4
}
