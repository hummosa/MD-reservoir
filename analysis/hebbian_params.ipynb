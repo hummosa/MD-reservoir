{
 "cells": [
  {
   "cell_type": "code",
   "execution_count": 8,
   "metadata": {},
   "outputs": [],
   "source": [
    "import glob\n",
    "\n",
    "results_dir = '/om2/group/halassa/MD-reservoir_res-sab/hebbian_810'\n",
    "config_files = glob.glob(results_dir + \"/\" + \"config*\")\n",
    "\n",
    "execution_suffixes = []\n",
    "for config_file in config_files:\n",
    "    execution_suffix = config_file.split('/')[-1].replace(\"config\", \"\")\n",
    "    execution_suffixes.append(execution_id)"
   ]
  },
  {
   "cell_type": "code",
   "execution_count": 34,
   "metadata": {},
   "outputs": [
    {
     "name": "stdout",
     "output_type": "stream",
     "text": [
      "<config.HebbianLearning_config object at 0x2b5d02d6c730>\n",
      "0.005 0.04\n"
     ]
    }
   ],
   "source": [
    "import numpy as np\n",
    "import sys\n",
    "sys.path.append('./../')\n",
    "\n",
    "for execution_suffix in execution_suffixes:\n",
    "    config_filename = \"config\" + execution_suffix\n",
    "    output_filename = \"saved_Corrects\" + execution_suffix\n",
    "    config = np.load(results_dir + \"/\" + config_filename,allow_pickle=True).item()\n",
    "    print(config.MDlearningrate, config.MDrange)\n",
    "    #     data   = np.load(results_dir + \"/\" + output_filename)\n",
    "    \n",
    "    break"
   ]
  },
  {
   "cell_type": "code",
   "execution_count": null,
   "metadata": {},
   "outputs": [],
   "source": []
  }
 ],
 "metadata": {
  "kernelspec": {
   "display_name": "Python 3",
   "language": "python",
   "name": "python3"
  },
  "language_info": {
   "codemirror_mode": {
    "name": "ipython",
    "version": 3
   },
   "file_extension": ".py",
   "mimetype": "text/x-python",
   "name": "python",
   "nbconvert_exporter": "python",
   "pygments_lexer": "ipython3",
   "version": "3.8.5"
  }
 },
 "nbformat": 4,
 "nbformat_minor": 4
}
